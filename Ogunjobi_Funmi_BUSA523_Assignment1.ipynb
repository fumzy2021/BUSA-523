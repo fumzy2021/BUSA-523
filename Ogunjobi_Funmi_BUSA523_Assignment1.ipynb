{
 "cells": [
  {
   "cell_type": "markdown",
   "id": "15237e1c",
   "metadata": {},
   "source": [
    "- Question 1. Write a program which randomly selects a number between 1 and 20. The\n",
    "- user is then given 5 chances to guess the number correctly to win.\n",
    "- Take user input\n",
    "- Randomly select a number between 1 and 20\n",
    "    - while user input is less than 5\n",
    "    - user guess a number\n",
    "    - if guess == random number, yay you won\n",
    "    - break\n",
    "    - else sorry you lose     "
   ]
  },
  {
   "cell_type": "code",
   "execution_count": 4,
   "id": "07e3589e",
   "metadata": {},
   "outputs": [
    {
     "name": "stdout",
     "output_type": "stream",
     "text": [
      "Let's play a game, select a number between 1 and 20\n",
      "6\n",
      "Guess another number: 8\n",
      "Guess another number: 19\n",
      "Guess another number: 13\n",
      "Guess another number: 18\n",
      "Sorry you lose\n"
     ]
    }
   ],
   "source": [
    "\n",
    "import random\n",
    "\n",
    "print(\"Let's play a game, select a number between 1 and 20\")\n",
    "\n",
    "user = int(input())\n",
    "\n",
    "number = random.randint(1,20)\n",
    "        \n",
    "count = 0        \n",
    "        \n",
    "while count < 4: \n",
    "        \n",
    "        count = count + 1\n",
    "        if user == number:\n",
    "            print(\"Yay you won\")\n",
    "            break\n",
    "        user = int(input('Guess another number: ')) \n",
    "else:\n",
    "    print('Sorry you lose') \n"
   ]
  },
  {
   "cell_type": "code",
   "execution_count": null,
   "id": "38389593",
   "metadata": {},
   "outputs": [],
   "source": []
  },
  {
   "cell_type": "markdown",
   "id": "09afb126",
   "metadata": {},
   "source": [
    "- Question 2. After each guess, print if the next guess should be lower or higher. For\n",
    "- example, if the computer selection is 10 and the user input is 6, print guess a higher value.\n",
    "- Take user input\n",
    "- Randomly select a number between 1 and 20\n",
    "    - while user input is less than 5\n",
    "    - user guess a number\n",
    "    - if guess == random number, you won\n",
    "    - elif quess > random number, your guess is too high, try again\n",
    "    - elif guess < random number, your guess is too high, try again\n",
    "    - else sorry you lose"
   ]
  },
  {
   "cell_type": "code",
   "execution_count": 5,
   "id": "1529e17d",
   "metadata": {},
   "outputs": [
    {
     "name": "stdout",
     "output_type": "stream",
     "text": [
      "Let's play a game, select a number between 1 and 20\n",
      "12\n",
      "Your guess is too high, try again\n",
      "Guess another number8\n",
      "Yay you won\n"
     ]
    }
   ],
   "source": [
    "import random\n",
    "\n",
    "print(\"Let's play a game, select a number between 1 and 20\")\n",
    "\n",
    "user = int(input())\n",
    "\n",
    "number = random.randint(1,20)\n",
    "        \n",
    "count = 0        \n",
    "        \n",
    "while count < 4:\n",
    "        count = count + 1\n",
    "        if user == number:\n",
    "            print(\"Yay you won\")\n",
    "            break\n",
    "        elif user > number:\n",
    "            print(\"Your guess is too high, try again\")\n",
    "        elif user < number:\n",
    "            print(\"Your guess is too low, try again\")\n",
    "            \n",
    "        user = int(input(\"Guess another number\"))\n",
    "        \n",
    "else:\n",
    "    print('Sorry you lose')    "
   ]
  },
  {
   "cell_type": "markdown",
   "id": "290b4846",
   "metadata": {},
   "source": [
    "- Q3 Write a program for “Rock-Paper-Scissors-Lizard-Spock”.\n",
    "\n",
    "- Take user input\n",
    "- Randomly select a value between 1 and 3\n",
    "    - if value == 1, the computer = Rock\n",
    "    - elif value == 2, the computer = Paper\n",
    "    - elif value == 3, the computer = scissors\n",
    "    - elif value == 4, the computer = Lizard\n",
    "    - elif value == 5, the computer = Spock\n",
    "- Compare both user input to computer\n",
    "     - if user input == computer, its a Tie\n",
    "     - if user input == rock and computer == scissors, You win\n",
    "     - if user input == rock and computer == lizard, You win\n",
    "     - if user input == scissors and computer == paper, You win\n",
    "     - if user input == scissors and computer == lizard, You win\n",
    "     - if user input == paper and computer == rock, You win\n",
    "     - if user input == paper and computer == spock, You win\n",
    "     - if user input == lizard and computer == paper, You win\n",
    "     - if user input == lizard and computer == spock, You win\n",
    "     - if user input == spock and computer == rock, You win\n",
    "     - if user input == spock and computer == sccisors, You win\n",
    "     - if user input == rock and computer == paper, You lose\n",
    "     - if user input == rock and computer == spock, You lose\n",
    "     - if user input == scissors and computer == rock, You lose\n",
    "     - if user input == scissors and computer == spock, You lose\n",
    "     - if user input == paper and computer == scissors, You lose\n",
    "     - if user input == paper and computer == lizard, You lose\n",
    "     - if user input == lizard and computer == rock, You lose\n",
    "     - if user input == lizard and computer == scissors, You lose\n",
    "     - if user input == spock and computer == paper, You lose\n",
    "     - if user input == spock and computer == lizard, You lose\n",
    "     - else user input is invalid"
   ]
  },
  {
   "cell_type": "code",
   "execution_count": 7,
   "id": "463a5649",
   "metadata": {},
   "outputs": [
    {
     "name": "stdout",
     "output_type": "stream",
     "text": [
      "Enter your move: Rock, Paper, Scissors, Lizard or Spock\n",
      "Lizard\n",
      "You lose\n"
     ]
    }
   ],
   "source": [
    "import random\n",
    "\n",
    "print(\"Enter your move: Rock, Paper, Scissors, Lizard or Spock\")\n",
    "\n",
    "user = input()\n",
    "\n",
    "number = random.randint(1,5)\n",
    "\n",
    "if number == 1:\n",
    "    computer = \"Rock\"\n",
    "    \n",
    "elif number == 2:\n",
    "    computer = \"Paper\"\n",
    "    \n",
    "elif number == 3:\n",
    "    computer = \"Scissors\"\n",
    "\n",
    "elif number == 4:\n",
    "    computer = \"Lizard\"\n",
    "    \n",
    "elif number == 5:\n",
    "    computer = \"Spock\"    \n",
    "    \n",
    "if user == computer:\n",
    "    print('Its a Tie')\n",
    "    \n",
    "elif user == 'Rock' and computer == 'Scissors':\n",
    "    print(\"You win\") \n",
    "elif user == 'Rock' and computer == 'Lizard':\n",
    "    print(\"You win\")  \n",
    "elif user == 'Scissors' and computer == 'Paper':\n",
    "    print(\"You win\")\n",
    "elif user == 'Scissors' and computer == 'Lizard':\n",
    "    print(\"You win\") \n",
    "elif user == 'Paper' and computer == 'Rock':\n",
    "    print(\"You win\")\n",
    "elif user == 'Paper' and computer == 'Spock':\n",
    "    print(\"You win\")\n",
    "elif user == 'Lizard' and computer == 'Paper':\n",
    "    print(\"You win\")\n",
    "elif user == 'Lizard' and computer == 'Spock':\n",
    "    print(\"You win\")\n",
    "elif user == 'Spock' and computer == 'Rock':\n",
    "    print(\"You win\")\n",
    "elif user == 'Spock' and computer == 'Scissors':\n",
    "    print(\"You win\")       \n",
    "elif user == 'Rock' and computer == 'Paper':\n",
    "    print(\"You lose\")\n",
    "elif user == 'Rock' and computer == 'Spock':\n",
    "    print(\"You lose\")     \n",
    "elif user == 'Scissors' and computer == 'Rock':\n",
    "    print(\"You lose\")\n",
    "elif user == 'Scissors' and computer == 'Spock':\n",
    "    print(\"You lose\")     \n",
    "elif user == 'Paper' and computer == 'Scissors':\n",
    "    print(\"You lose\")\n",
    "elif user == 'Paper' and computer == 'Lizard':\n",
    "    print(\"You lose\") \n",
    "elif user == 'Lizard' and computer == 'Rock':\n",
    "    print(\"You lose\")\n",
    "elif user == 'Lizard' and computer == 'Scissors':\n",
    "    print(\"You lose\")\n",
    "elif user == 'Spock' and computer == 'Paper':\n",
    "    print(\"You lose\")      \n",
    "elif user == 'Spock' and computer == 'Lizard':\n",
    "    print(\"You lose\")    \n",
    "else:\n",
    "    print('Invalid entry')"
   ]
  },
  {
   "cell_type": "code",
   "execution_count": null,
   "id": "891eba56",
   "metadata": {},
   "outputs": [],
   "source": []
  }
 ],
 "metadata": {
  "kernelspec": {
   "display_name": "Python 3 (ipykernel)",
   "language": "python",
   "name": "python3"
  },
  "language_info": {
   "codemirror_mode": {
    "name": "ipython",
    "version": 3
   },
   "file_extension": ".py",
   "mimetype": "text/x-python",
   "name": "python",
   "nbconvert_exporter": "python",
   "pygments_lexer": "ipython3",
   "version": "3.9.7"
  }
 },
 "nbformat": 4,
 "nbformat_minor": 5
}
