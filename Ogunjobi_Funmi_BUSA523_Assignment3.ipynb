{
 "cells": [
  {
   "cell_type": "markdown",
   "id": "5306ae07",
   "metadata": {},
   "source": [
    "Q1 Create a class to store student records. Each student has a first name, last name,\n",
    "country, overall grade (0 - 4.0 scale), credits completed (total 30) and major.\n",
    "Create a method within this class to evaluate student progress.\n",
    "a. Progress - “Good”: if grades are above 3.0 and credits completed is greater\n",
    "than 20\n",
    "b. Progress - “Average”: if grades are above 2.5 or credits completed is\n",
    "between 10 and 20\n",
    "c. Progress - “Good”: if grades are below 2.5"
   ]
  },
  {
   "cell_type": "code",
   "execution_count": 9,
   "id": "642a55d2",
   "metadata": {},
   "outputs": [
    {
     "name": "stdout",
     "output_type": "stream",
     "text": [
      "Good\n"
     ]
    }
   ],
   "source": [
    "# create class\n",
    "\n",
    "class Records:\n",
    "    \n",
    "    def __init__(self, fname, lname, country, grade, credits, major):\n",
    "        self.fname = fname\n",
    "        self.lname = lname\n",
    "        self.counrty = country\n",
    "        self.grade = grade\n",
    "        self.credits = credits\n",
    "        self.major = major\n",
    "        \n",
    "    def student_progress(self):\n",
    "        # method to check progress\n",
    "        if self.grade > 3.0 and self.credits > 20:\n",
    "            status = 'Good'\n",
    "        elif self.grade > 2.5 or (self.credits <= 10 and self.credits >= 20):\n",
    "            status = 'Average'\n",
    "        elif self.grade < 2.5 :\n",
    "            status = 'Bad'\n",
    "        return status\n",
    "    \n",
    "my_progress = Records('Funmi', 'Ogunjobi', 'Nigeria', 4.0, 30, 'Business Analytics')\n",
    "print(my_progress.student_progress())"
   ]
  },
  {
   "cell_type": "markdown",
   "id": "b32896c2",
   "metadata": {},
   "source": [
    "Q2 Write a function which separates the positive and negative numbers from a\n",
    "list of numbers.\n",
    "Input: [-6, 5, -3, -2, 1, 0, -8, 9, 3]\n",
    "Output: [-6, -3, -2, -8], [5, 1, 9, 3]"
   ]
  },
  {
   "cell_type": "code",
   "execution_count": 5,
   "id": "41b22c8e",
   "metadata": {},
   "outputs": [
    {
     "name": "stdout",
     "output_type": "stream",
     "text": [
      " Positive List is [5, 1, 9, 3]\n",
      " Negative List is [-6, -3, -2, -8]\n",
      "\n",
      " The Output [-6, -3, -2, -8], [5, 1, 9, 3]\n"
     ]
    }
   ],
   "source": [
    "def seperatePosNeg(numbers):\n",
    "    \n",
    "    positive = []\n",
    "    negative = []\n",
    "    \n",
    "    for number in numbers:\n",
    "        if number > 0:\n",
    "            positive.append(number)\n",
    "        elif number < 0:\n",
    "            negative.append(number)\n",
    "            \n",
    "    print(f\" Positive List is {positive}\")\n",
    "    print(f\" Negative List is {negative}\\n\")\n",
    "    print(f\" The Output {negative}, {positive}\")\n",
    "  \n",
    "numbers = [-6, 5, -3, -2, 1, 0, -8, 9, 3]\n",
    "\n",
    "seperatePosNeg(numbers) \n"
   ]
  },
  {
   "cell_type": "markdown",
   "id": "dfd83b89",
   "metadata": {},
   "source": [
    "Q3 Write a function which outputs all winning possibilities for a given player’s\n",
    "score. Assume the score is always greater than 15 and the dealer is dealt\n",
    "only 2 cards. (40)\n",
    "Input - 18 (player’s final score)\n",
    "Output - [(9,10), (10,11), (10,10), (11,9), (11,8)]\n",
    "Notes:\n",
    "- No need to specify face cards separately, you can use the value “10”\n",
    "- (11,11) is not a winning combination"
   ]
  },
  {
   "cell_type": "code",
   "execution_count": 11,
   "id": "2dc02d1d",
   "metadata": {},
   "outputs": [
    {
     "name": "stdout",
     "output_type": "stream",
     "text": [
      " Input - 19 (player's final score)\n",
      "Output - [[9, 11], [10, 10], [10, 11]] are the winning possibilities.\n"
     ]
    }
   ],
   "source": [
    "import random \n",
    "\n",
    "# Create function for dealer to pick random cards\n",
    "\n",
    "def playerScore():\n",
    "    playerScore = 0\n",
    "    # player score should be between 15 and 21\n",
    "    while playerScore < 15 or playerScore >=22:\n",
    "        card1 = random.randint(1,11)\n",
    "        card2 = random.randint(1,11)\n",
    "        \n",
    "        playerScore = card1 + card2\n",
    "        continue\n",
    "    return playerScore\n",
    "\n",
    "# Create function to pick winning possibilities for player score\n",
    "\n",
    "def winPossibility(plyScore):\n",
    "    \n",
    "    possibilityList = []\n",
    "    reverseCheck = []\n",
    "    newList = []\n",
    "    \n",
    "    print(f\" Input - {plyScore} (player's final score)\")\n",
    "    \n",
    "    # checking the possible wins for player score\n",
    "    \n",
    "    for num1 in range(1,12):\n",
    "        \n",
    "        for num2 in range(1,12):\n",
    "            sumN = num1 + num2\n",
    "            # add to the list that contains a sum higher than the players score\n",
    "            \n",
    "            if sumN > plyScore and sumN != 22:\n",
    "                newList.append(num1)\n",
    "                newList.append(num2)\n",
    "                \n",
    "                #removing the duplicate reversed scores\n",
    "                \n",
    "                if  newList[::-1] != newList:\n",
    "                    reverseCheck.append(newList[::-1])\n",
    "                \n",
    "                if newList not in possibilityList:\n",
    "                    if newList not in reverseCheck:\n",
    "                        possibilityList.append(newList)\n",
    "                        \n",
    "                newList = []\n",
    "                \n",
    "    if possibilityList != []:\n",
    "        print(f\"Output - {possibilityList} are the winning possibilities.\")\n",
    "        \n",
    "    else:\n",
    "        print(f\"No winning possibilities.\")\n",
    "            \n",
    "# Now call the function created\n",
    "\n",
    "score = playerScore()\n",
    "\n",
    "winPossibility(int(score))                  \n",
    "        "
   ]
  },
  {
   "cell_type": "markdown",
   "id": "7a88ea75",
   "metadata": {},
   "source": [
    "Q4 Calculate the number of steps & Big O order for the programs in question 2\n",
    "and 3.\n",
    "\n",
    "\n"
   ]
  },
  {
   "cell_type": "code",
   "execution_count": 12,
   "id": "04d0c0c5",
   "metadata": {},
   "outputs": [
    {
     "name": "stdout",
     "output_type": "stream",
     "text": [
      "828 ns ± 37.3 ns per loop (mean ± std. dev. of 7 runs, 1000000 loops each)\n"
     ]
    }
   ],
   "source": [
    "def seperatePosNeg(numbers):\n",
    "    \n",
    "    positive = []\n",
    "    negative = []\n",
    "    \n",
    "    for number in numbers:\n",
    "        if number > 0:\n",
    "            positive.append(number)\n",
    "        elif number < 0:\n",
    "            negative.append(number)\n",
    "            \n",
    "numbers = [-6, 5, -3, -2, 1, 0, -8, 9, 3]\n",
    "\n",
    "seperatePosNeg(numbers) \n",
    "\n",
    "%timeit seperatePosNeg(numbers)"
   ]
  },
  {
   "cell_type": "code",
   "execution_count": 14,
   "id": "2fafdf0e",
   "metadata": {},
   "outputs": [
    {
     "name": "stdout",
     "output_type": "stream",
     "text": [
      "9.52 µs ± 864 ns per loop (mean ± std. dev. of 7 runs, 100000 loops each)\n"
     ]
    }
   ],
   "source": [
    "import random \n",
    "\n",
    "# Create function for dealer to pick random cards\n",
    "\n",
    "def playerScore():\n",
    "    playerScore = 0\n",
    "    # player score should be between 15 and 21\n",
    "    while playerScore < 15 or playerScore >=22:\n",
    "        card1 = random.randint(1,11)\n",
    "        card2 = random.randint(1,11)\n",
    "        \n",
    "        playerScore = card1 + card2\n",
    "        continue\n",
    "    return playerScore\n",
    "\n",
    "# Create function to pick winning possibilities for player score\n",
    "\n",
    "def winPossibility(plyScore):\n",
    "    \n",
    "    possibilityList = []\n",
    "    reverseCheck = []\n",
    "    newList = []\n",
    "    \n",
    "    # checking the possible wins for player score\n",
    "    \n",
    "    for num1 in range(1,12):\n",
    "        \n",
    "        for num2 in range(1,12):\n",
    "            sumN = num1 + num2\n",
    "            # add to the list that contains a sum higher than the players score\n",
    "            \n",
    "            if sumN > plyScore and sumN != 22:\n",
    "                newList.append(num1)\n",
    "                newList.append(num2)\n",
    "                \n",
    "                #removing the duplicate reversed scores\n",
    "                \n",
    "                if  newList[::-1] != newList:\n",
    "                    reverseCheck.append(newList[::-1])\n",
    "                \n",
    "                if newList not in possibilityList:\n",
    "                    if newList not in reverseCheck:\n",
    "                        possibilityList.append(newList)\n",
    "                        \n",
    "                newList = []\n",
    "                \n",
    "            \n",
    "# Now call the function created\n",
    "\n",
    "score = playerScore()\n",
    "\n",
    "winPossibility(int(score)) \n",
    "\n",
    "%timeit winPossibility(int(score)) "
   ]
  },
  {
   "cell_type": "code",
   "execution_count": null,
   "id": "6b0c5788",
   "metadata": {},
   "outputs": [],
   "source": []
  }
 ],
 "metadata": {
  "kernelspec": {
   "display_name": "Python 3 (ipykernel)",
   "language": "python",
   "name": "python3"
  },
  "language_info": {
   "codemirror_mode": {
    "name": "ipython",
    "version": 3
   },
   "file_extension": ".py",
   "mimetype": "text/x-python",
   "name": "python",
   "nbconvert_exporter": "python",
   "pygments_lexer": "ipython3",
   "version": "3.9.7"
  }
 },
 "nbformat": 4,
 "nbformat_minor": 5
}
