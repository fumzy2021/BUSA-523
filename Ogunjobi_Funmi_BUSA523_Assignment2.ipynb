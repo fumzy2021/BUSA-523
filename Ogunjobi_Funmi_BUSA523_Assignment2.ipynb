{
 "cells": [
  {
   "cell_type": "markdown",
   "id": "b560f33f",
   "metadata": {},
   "source": [
    "Q1. Write a program for flipping a coin 10,000 times and store the results in a list.\n",
    "After which, identify the number of streaks. (streak - a series of 5 or more\n",
    "heads or tails)"
   ]
  },
  {
   "cell_type": "code",
   "execution_count": 4,
   "id": "18808273",
   "metadata": {},
   "outputs": [
    {
     "name": "stdout",
     "output_type": "stream",
     "text": [
      "['Head', 'Head', 'Head', 'Tail']\n",
      "300\n"
     ]
    }
   ],
   "source": [
    "import random\n",
    "\n",
    "# Assign variables\n",
    "Streaks = 0\n",
    "Head_checker = 0\n",
    "Tail_checker = 0 \n",
    "results = []\n",
    "\n",
    "# run a for loop to get 10000 tosses\n",
    "for i in range(10000):\n",
    "    toss = random.randint(1,2)\n",
    "    if toss == 1:\n",
    "            results.append('Head') \n",
    "            Head_checker += 1 \n",
    "            Tail_checker = 0\n",
    "            \n",
    "    elif toss == 2:\n",
    "            results.append('Tail') \n",
    "            Tail_checker += 1\n",
    "            Head_checker = 0\n",
    "            \n",
    "    if (Head_checker == 5) or (Tail_checker == 5):\n",
    "        Streaks +=1 \n",
    "print(results[0:4])\n",
    "print(Streaks)  "
   ]
  },
  {
   "cell_type": "markdown",
   "id": "a2dffac7",
   "metadata": {},
   "source": [
    "Q2. Write a program to take user inputs (number of swords, diamonds, gold coins,\n",
    "ropes and potions) for a video game and store them in a dictionary. After\n",
    "which print the following output."
   ]
  },
  {
   "cell_type": "code",
   "execution_count": 21,
   "id": "254602b0",
   "metadata": {},
   "outputs": [
    {
     "name": "stdout",
     "output_type": "stream",
     "text": [
      "Let's play a game\n",
      "Enter number swords you want:9\n",
      "Enter number diamonds you want:90\n",
      "Enter number gold coins you want:99\n",
      "Enter number rope you want:77\n",
      "Enter number portions you want:88\n",
      "sword 9\n",
      "diamonds 90\n",
      "gold coins 99\n",
      "rope 77\n",
      "portions 88\n"
     ]
    }
   ],
   "source": [
    "print(\"Let's play a game\")\n",
    "\n",
    "Inventory = {}\n",
    "\n",
    "Inventory['sword'] = input('Enter number swords you want:')\n",
    "Inventory['diamonds'] = input('Enter number diamonds you want:')\n",
    "Inventory['gold coins'] = input('Enter number gold coins you want:')\n",
    "Inventory['rope'] = input('Enter number rope you want:')\n",
    "Inventory['portions'] = input('Enter number portions you want:')\n",
    "\n",
    "for key,value in Inventory.items():\n",
    "    print(key, value)"
   ]
  },
  {
   "cell_type": "markdown",
   "id": "79fc748b",
   "metadata": {},
   "source": [
    "Q3. Repeat question 1 using arrays."
   ]
  },
  {
   "cell_type": "code",
   "execution_count": 3,
   "id": "4d3eb3c2",
   "metadata": {},
   "outputs": [
    {
     "name": "stdout",
     "output_type": "stream",
     "text": [
      "['Head' 'Tail' 'Head' ... 'Tail' 'Tail' 'Head']\n",
      "324\n"
     ]
    }
   ],
   "source": [
    "import random\n",
    "\n",
    "import numpy as np\n",
    "\n",
    "# Assign variables\n",
    "Streaks = 0\n",
    "Head_checker = 0\n",
    "Tail_checker = 0 \n",
    "\n",
    "results = []\n",
    "\n",
    "# run a for loop to get 10000 tosses\n",
    "for i in range(10000):\n",
    "    toss = random.randint(1,2)\n",
    "    if toss == 1:\n",
    "            results.append('Head') \n",
    "            Head_checker += 1 \n",
    "            Tail_checker = 0\n",
    "            \n",
    "    elif toss == 2:\n",
    "            results.append('Tail') \n",
    "            Tail_checker += 1\n",
    "            Head_checker = 0\n",
    "            \n",
    "    if (Head_checker == 5) or (Tail_checker == 5):\n",
    "        Streaks +=1\n",
    "\n",
    "# convert the list to an arrary\n",
    "    array = np.array(results)\n",
    "\n",
    "print(array)\n",
    "print(Streaks) "
   ]
  },
  {
   "cell_type": "markdown",
   "id": "3d5f8aff",
   "metadata": {},
   "source": [
    "Q4. Create a game with the following instructions: \n",
    "a. There are 3 players and 10 iterations.\n",
    "b. In each iteration, every player rolls a die.\n",
    "c. The winner of the game is the one who has the highest score when rolls\n",
    "from all the iterations are added."
   ]
  },
  {
   "cell_type": "code",
   "execution_count": 2,
   "id": "f4b19d04",
   "metadata": {},
   "outputs": [
    {
     "name": "stdout",
     "output_type": "stream",
     "text": [
      "player1 roll is 3\n",
      "player2 roll is 6\n",
      "player3 roll is 2\n",
      "player1 roll is 6\n",
      "player2 roll is 2\n",
      "player3 roll is 3\n",
      "player1 roll is 1\n",
      "player2 roll is 4\n",
      "player3 roll is 4\n",
      "player1 roll is 3\n",
      "player2 roll is 1\n",
      "player3 roll is 4\n",
      "player1 roll is 6\n",
      "player2 roll is 5\n",
      "player3 roll is 2\n",
      "player1 roll is 1\n",
      "player2 roll is 6\n",
      "player3 roll is 6\n",
      "player1 roll is 1\n",
      "player2 roll is 2\n",
      "player3 roll is 3\n",
      "player1 roll is 2\n",
      "player2 roll is 1\n",
      "player3 roll is 1\n",
      "player1 roll is 2\n",
      "player2 roll is 2\n",
      "player3 roll is 3\n",
      "player1 roll is 6\n",
      "player2 roll is 6\n",
      "player3 roll is 2\n",
      "The winner of this game player3 with a total score of 65\n"
     ]
    }
   ],
   "source": [
    "import random\n",
    "\n",
    "players = ['player1', 'player2', 'player3']\n",
    "\n",
    "score1 = 0\n",
    "score2 = 0\n",
    "score3 = 0\n",
    "\n",
    "count = 1\n",
    "\n",
    "for roll in range(10):\n",
    "    for player in players:\n",
    "        \n",
    "        die = random.randint(1,6)\n",
    "        score = die\n",
    "        \n",
    "        if player == \"player1\":\n",
    "            score1 = score1 + score\n",
    "        \n",
    "        elif player == 'palyer2':\n",
    "            score2 = score2 + score\n",
    "            \n",
    "        else:\n",
    "            score3 = score3 + score\n",
    "        \n",
    "        print(f\"{player} roll is {die}\")\n",
    "            \n",
    "if score1 > score2 and score1 > score3:\n",
    "    print('The winner of this game ' + players[0] + ' with a total score of ' + str(score1))\n",
    "\n",
    "elif score2 > score1 and score2 > score3:\n",
    "    print('The winner of this game ' + players[1] + ' with a total score of ' + str(score2))\n",
    "    \n",
    "else: \n",
    "    print('The winner of this game ' + players[2] + ' with a total score of ' + str(score3))\n",
    "\n"
   ]
  },
  {
   "cell_type": "code",
   "execution_count": null,
   "id": "6103d53e",
   "metadata": {},
   "outputs": [],
   "source": [
    "def winPossibility(plyScore):\n",
    "    \n",
    "    possibilityList = []\n",
    "    newList = []\n",
    "    \n",
    "    for num1 in range(1,12):\n",
    "        \n",
    "        for num2 in range(1,12):\n",
    "            sumN = num1 + num2\n",
    "            \n",
    "            if sumN > plyScore and sumN != 22:\n",
    "                newList.append(num1)\n",
    "                newList.append(num2)\n",
    "                \n",
    "                print(newList)\n",
    "                print(newList.reverse())\n",
    "                \n",
    "                for n in possibilityList:\n",
    "                    if newList not in possibilityList and newList. reverse() not in possibilityList:\n",
    "                        possibilityList.append(newList)\n",
    "                        newList = []\n",
    "                \n",
    "    if possibilityList != []:\n",
    "        print(f\"Output - {possibilityList}\")\n",
    "    \n",
    "    else:\n",
    "        print(f\"Players final score is {plyScore} no possibilities needed.\")\n",
    "        \n",
    "plyScore = input('Enter Players final score:')\n",
    "\n",
    "winPossibility(int(plyScore))\n"
   ]
  }
 ],
 "metadata": {
  "kernelspec": {
   "display_name": "Python 3 (ipykernel)",
   "language": "python",
   "name": "python3"
  },
  "language_info": {
   "codemirror_mode": {
    "name": "ipython",
    "version": 3
   },
   "file_extension": ".py",
   "mimetype": "text/x-python",
   "name": "python",
   "nbconvert_exporter": "python",
   "pygments_lexer": "ipython3",
   "version": "3.9.7"
  }
 },
 "nbformat": 4,
 "nbformat_minor": 5
}
